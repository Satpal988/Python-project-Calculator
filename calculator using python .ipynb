{
 "cells": [
  {
   "cell_type": "code",
   "execution_count": 41,
   "id": "167dd147-8652-4b4f-9440-0d523672485f",
   "metadata": {},
   "outputs": [
    {
     "name": "stdout",
     "output_type": "stream",
     "text": [
      "Please select an operation:-\n",
      "1. Additon \n",
      "2. substraction \n",
      "3. Multiplication \n",
      "4. Division \n",
      "5. Average\n"
     ]
    },
    {
     "name": "stdin",
     "output_type": "stream",
     "text": [
      "\n",
      "Select an operation which you want to perform from 1,2,3,4,5 5\n",
      "select first number 25\n",
      "select second number 32\n"
     ]
    },
    {
     "name": "stdout",
     "output_type": "stream",
     "text": [
      "Average of 25 and 32 = 28.5\n"
     ]
    }
   ],
   "source": [
    "# Function to perform addition\n",
    "def add(num1, num2):\n",
    "    return num1 + num2\n",
    "\n",
    "# Function to perform substraction\n",
    "def sub(num1, num2):\n",
    "    return num1 - num2\n",
    "\n",
    "# Function to perform multiplication\n",
    "def multiply(num1, num2):\n",
    "    return num1 * num2\n",
    "\n",
    "# Function to perform division\n",
    "def divide(num1, num2):\n",
    "    return num1/num2 \n",
    "\n",
    "# Function to perform average\n",
    "def avg(num1, num2):\n",
    "    return (num1 + num2)/2\n",
    "\n",
    "# Displaying menu options for the user\n",
    "print(\"\"\"Please select an operation:-\n",
    "1. Additon \n",
    "2. substraction \n",
    "3. Multiplication \n",
    "4. Division \n",
    "5. Average\"\"\")\n",
    "\n",
    "# Taking user input for the operation\n",
    "select = int(input(\"\\nSelect an operation which you want to perform from 1,2,3,4,5\"))\n",
    "\n",
    "# Taking user input for the two numbers\n",
    "num1 = int(input(\"select first number\"))\n",
    "num2 = int(input(\"select second number\"))\n",
    "\n",
    "if select == 1:\n",
    "    print(f\"Addition of {num1} and {num2} = {add(num1, num2)}\")\n",
    "\n",
    "if select == 2:\n",
    "    print(f\"Substraction of {num1} and {num2} = {sub(num1,num2)}\")\n",
    "\n",
    "if select == 3:\n",
    "    print(f\"Multiplication of {num1} and {num2} = {multiply(num1,num2)}\")\n",
    "\n",
    "if select == 4:\n",
    "    print(f\"Division of {num1} and {num2} = {divide(num1,num2)}\")\n",
    "\n",
    "if select == 5:\n",
    "    print(f\"Average of {num1} and {num2} = {avg(num1,num2)}\")\n",
    "    \n",
    "else:\n",
    "    print(\"Invalid operation! kindly try valid operation\")"
   ]
  },
  {
   "cell_type": "code",
   "execution_count": 19,
   "id": "301000a3-868e-468e-88ca-f6ec01e277a8",
   "metadata": {},
   "outputs": [
    {
     "name": "stdout",
     "output_type": "stream",
     "text": [
      "Please select an operation:-\n",
      "1. Additon \n",
      "2. substraction 3. Multiplication 4. Division 5. Average\n"
     ]
    }
   ],
   "source": [
    "\n",
    "print(\"\"\"Please select an operation:-\n",
    "1. Additon \n",
    "2. substraction 3. Multiplication 4. Division 5. Average\"\"\")"
   ]
  },
  {
   "cell_type": "code",
   "execution_count": 25,
   "id": "36d52213-78e7-48f6-8c5e-a5b28946cebc",
   "metadata": {},
   "outputs": [
    {
     "data": {
      "text/plain": [
       "7"
      ]
     },
     "execution_count": 25,
     "metadata": {},
     "output_type": "execute_result"
    }
   ],
   "source": [
    "add(3,4)"
   ]
  },
  {
   "cell_type": "code",
   "execution_count": null,
   "id": "4995fe8f-8593-4779-8319-807d8965e775",
   "metadata": {},
   "outputs": [],
   "source": [
    ")"
   ]
  }
 ],
 "metadata": {
  "kernelspec": {
   "display_name": "Python [conda env:base] *",
   "language": "python",
   "name": "conda-base-py"
  },
  "language_info": {
   "codemirror_mode": {
    "name": "ipython",
    "version": 3
   },
   "file_extension": ".py",
   "mimetype": "text/x-python",
   "name": "python",
   "nbconvert_exporter": "python",
   "pygments_lexer": "ipython3",
   "version": "3.12.7"
  }
 },
 "nbformat": 4,
 "nbformat_minor": 5
}
